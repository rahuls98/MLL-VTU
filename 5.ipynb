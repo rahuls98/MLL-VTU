{
 "cells": [
  {
   "cell_type": "code",
   "execution_count": 56,
   "metadata": {},
   "outputs": [],
   "source": [
    "import csv\n",
    "import math\n",
    "import random"
   ]
  },
  {
   "cell_type": "code",
   "execution_count": 57,
   "metadata": {},
   "outputs": [],
   "source": [
    "def loadCsv(name):\n",
    "    rows = csv.reader(open(name, \"r\"))\n",
    "    data = list(rows)\n",
    "    \n",
    "    for i in range(len(data)):\n",
    "        data[i] = [float(x) for x in data[i]]\n",
    "        \n",
    "    return data"
   ]
  },
  {
   "cell_type": "code",
   "execution_count": 58,
   "metadata": {},
   "outputs": [],
   "source": [
    "#splitData = train_test_split(data, 0.8)\n",
    "\n",
    "def train_test_split(data, ratio):\n",
    "    train_size = int(len(data)*ratio)\n",
    "    train = []\n",
    "    test = data\n",
    "    \n",
    "    while len(train)<train_size:\n",
    "        index = random.randrange(len(test))\n",
    "        train.append(test.pop(index))\n",
    "        \n",
    "    return [train, test]"
   ]
  },
  {
   "cell_type": "code",
   "execution_count": 59,
   "metadata": {},
   "outputs": [],
   "source": [
    "#sample = [[1,2,3],[4,5,6]]\n",
    "#l = [sum(val) for val in zip(*sam)]\n",
    "#l = [5,7,9]"
   ]
  },
  {
   "cell_type": "code",
   "execution_count": 60,
   "metadata": {},
   "outputs": [],
   "source": [
    "def mean(nums):\n",
    "    return sum(nums)/float(len(nums))"
   ]
  },
  {
   "cell_type": "code",
   "execution_count": 61,
   "metadata": {},
   "outputs": [],
   "source": [
    "def std(nums):\n",
    "    avg = mean(nums)\n",
    "    var = sum([ pow(x-avg, 2) for x in nums])/float(len(nums)-1)\n",
    "    return math.sqrt(var)"
   ]
  },
  {
   "cell_type": "code",
   "execution_count": 62,
   "metadata": {},
   "outputs": [],
   "source": [
    "def summarize(data):\n",
    "    summaries = [(mean(col),std(col)) for col in zip(*data)]\n",
    "    del summaries[-1]\n",
    "    return summaries"
   ]
  },
  {
   "cell_type": "code",
   "execution_count": 63,
   "metadata": {},
   "outputs": [],
   "source": [
    "def separate(data):\n",
    "    separated = {}\n",
    "    for row in data:\n",
    "        if row[-1] not in separated:\n",
    "            separated[row[-1]] = []\n",
    "        separated[row[-1]].append(row)\n",
    "        \n",
    "    #print(separated)\n",
    "    return separated"
   ]
  },
  {
   "cell_type": "code",
   "execution_count": 64,
   "metadata": {},
   "outputs": [],
   "source": [
    "def sbc(data):\n",
    "    separated = separate(data)\n",
    "    summaries = {}\n",
    "    for target,instances in separated.items():\n",
    "        summaries[target] = summarize(instances)\n",
    "        \n",
    "    #print(summaries)\n",
    "    return summaries"
   ]
  },
  {
   "cell_type": "code",
   "execution_count": 72,
   "metadata": {},
   "outputs": [],
   "source": [
    "def cp(x, m, s):\n",
    "    e = math.exp(-(math.pow(x-m,2))/(2*math.pow(s,2)))\n",
    "    return (1/(math.sqrt(2*math.pi)*s))*e"
   ]
  },
  {
   "cell_type": "code",
   "execution_count": 73,
   "metadata": {},
   "outputs": [],
   "source": [
    "def ccp(summaries, row):\n",
    "    probs = {}\n",
    "    for target,target_summ in summaries.items():\n",
    "        probs[target] = 1\n",
    "        \n",
    "        for i in range(len(target_summ)):\n",
    "            m,s = target_summ[i]\n",
    "            val = row[i]\n",
    "            probs[target] *= cp(val, m, s)\n",
    "            \n",
    "    return probs"
   ]
  },
  {
   "cell_type": "code",
   "execution_count": 74,
   "metadata": {},
   "outputs": [],
   "source": [
    "def predict(summaries, row):\n",
    "    probs = ccp(summaries, row)\n",
    "    bestLabel, bestProb = None, -1\n",
    "    \n",
    "    for target,prob in probs.items():\n",
    "        if bestLabel is None or prob>bestProb:\n",
    "            bestProb = prob\n",
    "            bestLabel = target\n",
    "            \n",
    "    return bestLabel"
   ]
  },
  {
   "cell_type": "code",
   "execution_count": 75,
   "metadata": {},
   "outputs": [],
   "source": [
    "def report(summaries, test):\n",
    "    y_test = []\n",
    "    for row in test:\n",
    "        y = predict(summaries, row)\n",
    "        y_test.append(y)\n",
    "        \n",
    "    return y_test"
   ]
  },
  {
   "cell_type": "code",
   "execution_count": 79,
   "metadata": {},
   "outputs": [],
   "source": [
    "def accuracy(test, predictions):\n",
    "    correct = 0\n",
    "    for x in range(len(test)):\n",
    "        if test[x][-1]==predictions[x]:\n",
    "            correct += 1\n",
    "            \n",
    "    return (correct/float(len(test)))*100.0"
   ]
  },
  {
   "cell_type": "code",
   "execution_count": 89,
   "metadata": {},
   "outputs": [],
   "source": [
    "def main():\n",
    "    name = \"/home/rahul/Documents/MLL-VTU/datasets/5.csv\"\n",
    "    splitRatio = 0.75\n",
    "    data = loadCsv(name)\n",
    "    train, test = train_test_split(data, splitRatio)\n",
    "    print(f'Train size = {len(train)} and Test size = {len(test)}')\n",
    "    \n",
    "    summaries = sbc(train)\n",
    "    \n",
    "    predictions = report(summaries, test)\n",
    "    \n",
    "    acc = accuracy(test, predictions)\n",
    "    \n",
    "    print(acc)"
   ]
  },
  {
   "cell_type": "code",
   "execution_count": 93,
   "metadata": {},
   "outputs": [
    {
     "name": "stdout",
     "output_type": "stream",
     "text": [
      "Train size = 576 and Test size = 192\n",
      "77.08333333333334\n"
     ]
    }
   ],
   "source": [
    "main()"
   ]
  },
  {
   "cell_type": "code",
   "execution_count": null,
   "metadata": {},
   "outputs": [],
   "source": []
  },
  {
   "cell_type": "code",
   "execution_count": null,
   "metadata": {},
   "outputs": [],
   "source": []
  }
 ],
 "metadata": {
  "kernelspec": {
   "display_name": "Python 3",
   "language": "python",
   "name": "python3"
  },
  "language_info": {
   "codemirror_mode": {
    "name": "ipython",
    "version": 3
   },
   "file_extension": ".py",
   "mimetype": "text/x-python",
   "name": "python",
   "nbconvert_exporter": "python",
   "pygments_lexer": "ipython3",
   "version": "3.6.4"
  }
 },
 "nbformat": 4,
 "nbformat_minor": 2
}
